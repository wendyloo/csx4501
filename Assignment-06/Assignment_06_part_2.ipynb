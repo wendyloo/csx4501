{
 "cells": [
  {
   "cell_type": "markdown",
   "id": "af12d951-2f06-4d20-a325-813d71f306e9",
   "metadata": {},
   "source": [
    "### Import scikit-learn's example wine dataset, and print a description of the dataset"
   ]
  },
  {
   "cell_type": "code",
   "execution_count": 2,
   "id": "42ff0b42-5f81-4271-bdd1-ee853f2024fa",
   "metadata": {},
   "outputs": [
    {
     "name": "stdout",
     "output_type": "stream",
     "text": [
      ".. _wine_dataset:\n",
      "\n",
      "Wine recognition dataset\n",
      "------------------------\n",
      "\n",
      "**Data Set Characteristics:**\n",
      "\n",
      "    :Number of Instances: 178 (50 in each of three classes)\n",
      "    :Number of Attributes: 13 numeric, predictive attributes and the class\n",
      "    :Attribute Information:\n",
      " \t\t- Alcohol\n",
      " \t\t- Malic acid\n",
      " \t\t- Ash\n",
      "\t\t- Alcalinity of ash  \n",
      " \t\t- Magnesium\n",
      "\t\t- Total phenols\n",
      " \t\t- Flavanoids\n",
      " \t\t- Nonflavanoid phenols\n",
      " \t\t- Proanthocyanins\n",
      "\t\t- Color intensity\n",
      " \t\t- Hue\n",
      " \t\t- OD280/OD315 of diluted wines\n",
      " \t\t- Proline\n",
      "\n",
      "    - class:\n",
      "            - class_0\n",
      "            - class_1\n",
      "            - class_2\n",
      "\t\t\n",
      "    :Summary Statistics:\n",
      "    \n",
      "    ============================= ==== ===== ======= =====\n",
      "                                   Min   Max   Mean     SD\n",
      "    ============================= ==== ===== ======= =====\n",
      "    Alcohol:                      11.0  14.8    13.0   0.8\n",
      "    Malic Acid:                   0.74  5.80    2.34  1.12\n",
      "    Ash:                          1.36  3.23    2.36  0.27\n",
      "    Alcalinity of Ash:            10.6  30.0    19.5   3.3\n",
      "    Magnesium:                    70.0 162.0    99.7  14.3\n",
      "    Total Phenols:                0.98  3.88    2.29  0.63\n",
      "    Flavanoids:                   0.34  5.08    2.03  1.00\n",
      "    Nonflavanoid Phenols:         0.13  0.66    0.36  0.12\n",
      "    Proanthocyanins:              0.41  3.58    1.59  0.57\n",
      "    Colour Intensity:              1.3  13.0     5.1   2.3\n",
      "    Hue:                          0.48  1.71    0.96  0.23\n",
      "    OD280/OD315 of diluted wines: 1.27  4.00    2.61  0.71\n",
      "    Proline:                       278  1680     746   315\n",
      "    ============================= ==== ===== ======= =====\n",
      "\n",
      "    :Missing Attribute Values: None\n",
      "    :Class Distribution: class_0 (59), class_1 (71), class_2 (48)\n",
      "    :Creator: R.A. Fisher\n",
      "    :Donor: Michael Marshall (MARSHALL%PLU@io.arc.nasa.gov)\n",
      "    :Date: July, 1988\n",
      "\n",
      "This is a copy of UCI ML Wine recognition datasets.\n",
      "https://archive.ics.uci.edu/ml/machine-learning-databases/wine/wine.data\n",
      "\n",
      "The data is the results of a chemical analysis of wines grown in the same\n",
      "region in Italy by three different cultivators. There are thirteen different\n",
      "measurements taken for different constituents found in the three types of\n",
      "wine.\n",
      "\n",
      "Original Owners: \n",
      "\n",
      "Forina, M. et al, PARVUS - \n",
      "An Extendible Package for Data Exploration, Classification and Correlation. \n",
      "Institute of Pharmaceutical and Food Analysis and Technologies,\n",
      "Via Brigata Salerno, 16147 Genoa, Italy.\n",
      "\n",
      "Citation:\n",
      "\n",
      "Lichman, M. (2013). UCI Machine Learning Repository\n",
      "[https://archive.ics.uci.edu/ml]. Irvine, CA: University of California,\n",
      "School of Information and Computer Science. \n",
      "\n",
      ".. topic:: References\n",
      "\n",
      "  (1) S. Aeberhard, D. Coomans and O. de Vel, \n",
      "  Comparison of Classifiers in High Dimensional Settings, \n",
      "  Tech. Rep. no. 92-02, (1992), Dept. of Computer Science and Dept. of  \n",
      "  Mathematics and Statistics, James Cook University of North Queensland. \n",
      "  (Also submitted to Technometrics). \n",
      "\n",
      "  The data was used with many others for comparing various \n",
      "  classifiers. The classes are separable, though only RDA \n",
      "  has achieved 100% correct classification. \n",
      "  (RDA : 100%, QDA 99.4%, LDA 98.9%, 1NN 96.1% (z-transformed data)) \n",
      "  (All results using the leave-one-out technique) \n",
      "\n",
      "  (2) S. Aeberhard, D. Coomans and O. de Vel, \n",
      "  \"THE CLASSIFICATION PERFORMANCE OF RDA\" \n",
      "  Tech. Rep. no. 92-01, (1992), Dept. of Computer Science and Dept. of \n",
      "  Mathematics and Statistics, James Cook University of North Queensland. \n",
      "  (Also submitted to Journal of Chemometrics).\n",
      "\n"
     ]
    }
   ],
   "source": [
    "import sklearn.datasets\n",
    "wine = sklearn.datasets.load_wine()\n",
    "print(wine.DESCR)"
   ]
  },
  {
   "cell_type": "markdown",
   "id": "6424bfc2-730b-42ea-ab73-442e75517eb0",
   "metadata": {},
   "source": [
    "### Get the features and target arrays"
   ]
  },
  {
   "cell_type": "code",
   "execution_count": 3,
   "id": "5d8b68cd-7cfb-40eb-858a-317a7a5b7a19",
   "metadata": {},
   "outputs": [],
   "source": [
    "x = wine.data\n",
    "y = wine.target"
   ]
  },
  {
   "cell_type": "markdown",
   "id": "ea0f6393-284d-4473-8b59-29b1348a71cf",
   "metadata": {},
   "source": [
    "### It will also be useful to scale the x data so that all of the features have a mean value of 0 and a standard deviation of 1"
   ]
  },
  {
   "cell_type": "code",
   "execution_count": 4,
   "id": "660744e3-356f-486e-b46a-eed13bbd7a17",
   "metadata": {},
   "outputs": [],
   "source": [
    "import sklearn.preprocessing\n",
    "x = sklearn.preprocessing.StandardScaler().fit_transform(x)"
   ]
  },
  {
   "cell_type": "markdown",
   "id": "132753cc-c351-40b2-a0e9-0c415766113e",
   "metadata": {},
   "source": [
    "### Print the array dimensions of x and y"
   ]
  },
  {
   "cell_type": "code",
   "execution_count": 5,
   "id": "c08a020b-8fdf-4dc5-8f2b-df6f4393f881",
   "metadata": {},
   "outputs": [
    {
     "name": "stdout",
     "output_type": "stream",
     "text": [
      "dimensions of x: (178, 13)\n",
      "dimensions of y: (178,)\n"
     ]
    }
   ],
   "source": [
    "print(\"dimensions of x: \" + str(x.shape))\n",
    "print(\"dimensions of y: \" + str(y.shape))"
   ]
  },
  {
   "cell_type": "markdown",
   "id": "7c57b5e0-3344-4083-997b-6730d7f1714f",
   "metadata": {},
   "source": [
    "### Make histogram plots that show how a given feature in x is distributed for each of the three wine classes"
   ]
  },
  {
   "cell_type": "code",
   "execution_count": 8,
   "id": "ed5e3c00-b58e-4321-b961-fda9051bfc11",
   "metadata": {},
   "outputs": [
    {
     "name": "stdout",
     "output_type": "stream",
     "text": [
      "Feature 1:\n"
     ]
    },
    {
     "data": {
      "image/png": "[encoded data removed]",
      "text/plain": [
       "<Figure size 432x288 with 1 Axes>"
      ]
     },
     "metadata": {
      "needs_background": "light"
     },
     "output_type": "display_data"
    },
    {
     "name": "stdout",
     "output_type": "stream",
     "text": [
      "Feature 2:\n"
     ]
    },
    {
     "data": {
      "image/png": "[encoded data removed]",
      "text/plain": [
       "<Figure size 432x288 with 1 Axes>"
      ]
     },
     "metadata": {
      "needs_background": "light"
     },
     "output_type": "display_data"
    },
    {
     "name": "stdout",
     "output_type": "stream",
     "text": [
      "Feature 3:\n"
     ]
    },
    {
     "data": {
      "image/png": "[encoded data removed]",
      "text/plain": [
       "<Figure size 432x288 with 1 Axes>"
      ]
     },
     "metadata": {
      "needs_background": "light"
     },
     "output_type": "display_data"
    },
    {
     "name": "stdout",
     "output_type": "stream",
     "text": [
      "Feature 4:\n"
     ]
    },
    {
     "data": {
      "image/png": "[encoded data removed]",
      "text/plain": [
       "<Figure size 432x288 with 1 Axes>"
      ]
     },
     "metadata": {
      "needs_background": "light"
     },
     "output_type": "display_data"
    },
    {
     "name": "stdout",
     "output_type": "stream",
     "text": [
      "Feature 5:\n"
     ]
    },
    {
     "data": {
      "image/png": "[encoded data removed]",
      "text/plain": [
       "<Figure size 432x288 with 1 Axes>"
      ]
     },
     "metadata": {
      "needs_background": "light"
     },
     "output_type": "display_data"
    },
    {
     "name": "stdout",
     "output_type": "stream",
     "text": [
      "Feature 6:\n"
     ]
    },
    {
     "data": {
      "image/png": "[encoded data removed]",
      "text/plain": [
       "<Figure size 432x288 with 1 Axes>"
      ]
     },
     "metadata": {
      "needs_background": "light"
     },
     "output_type": "display_data"
    },
    {
     "name": "stdout",
     "output_type": "stream",
     "text": [
      "Feature 7:\n"
     ]
    },
    {
     "data": {
      "image/png": "[encoded data removed]",
      "text/plain": [
       "<Figure size 432x288 with 1 Axes>"
      ]
     },
     "metadata": {
      "needs_background": "light"
     },
     "output_type": "display_data"
    },
    {
     "name": "stdout",
     "output_type": "stream",
     "text": [
      "Feature 8:\n"
     ]
    },
    {
     "data": {
      "image/png": "[encoded data removed]",
      "text/plain": [
       "<Figure size 432x288 with 1 Axes>"
      ]
     },
     "metadata": {
      "needs_background": "light"
     },
     "output_type": "display_data"
    },
    {
     "name": "stdout",
     "output_type": "stream",
     "text": [
      "Feature 9:\n"
     ]
    },
    {
     "data": {
      "image/png": "[encoded data removed]",
      "text/plain": [
       "<Figure size 432x288 with 1 Axes>"
      ]
     },
     "metadata": {
      "needs_background": "light"
     },
     "output_type": "display_data"
    },
    {
     "name": "stdout",
     "output_type": "stream",
     "text": [
      "Feature 10:\n"
     ]
    },
    {
     "data": {
      "image/png": "[encoded data removed]",
      "text/plain": [
       "<Figure size 432x288 with 1 Axes>"
      ]
     },
     "metadata": {
      "needs_background": "light"
     },
     "output_type": "display_data"
    },
    {
     "name": "stdout",
     "output_type": "stream",
     "text": [
      "Feature 11:\n"
     ]
    },
    {
     "data": {
      "image/png": "[encoded data removed]",
      "text/plain": [
       "<Figure size 432x288 with 1 Axes>"
      ]
     },
     "metadata": {
      "needs_background": "light"
     },
     "output_type": "display_data"
    },
    {
     "name": "stdout",
     "output_type": "stream",
     "text": [
      "Feature 12:\n"
     ]
    },
    {
     "data": {
      "image/png": "[encoded data removed]",
      "text/plain": [
       "<Figure size 432x288 with 1 Axes>"
      ]
     },
     "metadata": {
      "needs_background": "light"
     },
     "output_type": "display_data"
    },
    {
     "name": "stdout",
     "output_type": "stream",
     "text": [
      "Feature 13:\n"
     ]
    },
    {
     "data": {
      "image/png": "[encoded data removed]",
      "text/plain": [
       "<Figure size 432x288 with 1 Axes>"
      ]
     },
     "metadata": {
      "needs_background": "light"
     },
     "output_type": "display_data"
    }
   ],
   "source": [
    "import matplotlib.pyplot as plt\n",
    "\n",
    "for i in range(13):\n",
    "    print(\"Feature \" + str(i+1) + \":\")\n",
    "    plt.hist(x[(y==0),i], alpha=0.5, color='green', label='class_0')\n",
    "    plt.hist(x[(y==1),i], alpha=0.5, color='blue', label='class_1')\n",
    "    plt.hist(x[(y==2),i], alpha=0.5, color='red', label='class_2')\n",
    "    plt.legend()\n",
    "    plt.show()"
   ]
  },
  {
   "cell_type": "markdown",
   "id": "8f777901-32c5-4871-bcaa-72c26e66f8dd",
   "metadata": {},
   "source": [
    "### Scan through different features, and identify which feature might make for a good feature to use for classification\n",
    "\n",
    "From scanning through the histogram plots, none of the features seems to give good separation for all 3 classes, though some seem to distinguish between at least 2 classes fairly well. I'll choose Feature 7 to use for classification, since at most points in the x-axis, this feature can rule out at least one class, and for a decent range of values along the x-axis it can also definitely classify into one class."
   ]
  },
  {
   "cell_type": "markdown",
   "id": "9753455b-057f-4076-ace5-93dbf9e2ddeb",
   "metadata": {},
   "source": [
    "### Perform classification with LogisticRegression using the one feature you've identified\n",
    "\n",
    "- Split the data into a training set and a test set\n",
    "- Train the model (don't have to plot anything this time)\n",
    "- Print the confusion matrix and scores for accuracy, precision, and recall of the model applied to the test data"
   ]
  },
  {
   "cell_type": "code",
   "execution_count": 25,
   "id": "0f5565bf-6acd-430c-b470-1170a0b5910c",
   "metadata": {},
   "outputs": [
    {
     "name": "stdout",
     "output_type": "stream",
     "text": [
      "Confusion matrix: \n",
      "[[12  2  0]\n",
      " [ 3  9  2]\n",
      " [ 0  1  7]]\n",
      "\n",
      "\n",
      "Classification report: \n",
      "              precision    recall  f1-score   support\n",
      "\n",
      "           0       0.80      0.86      0.83        14\n",
      "           1       0.75      0.64      0.69        14\n",
      "           2       0.78      0.88      0.82         8\n",
      "\n",
      "    accuracy                           0.78        36\n",
      "   macro avg       0.78      0.79      0.78        36\n",
      "weighted avg       0.78      0.78      0.77        36\n",
      "\n"
     ]
    }
   ],
   "source": [
    "import sklearn.model_selection\n",
    "import sklearn.linear_model\n",
    "\n",
    "x_train, x_test, y_train, y_test = sklearn.model_selection.train_test_split(x[:,6], y, test_size=0.2, random_state=42)\n",
    "x_train_transformed = x_train.reshape(-1,1)\n",
    "x_test_transformed = x_test.reshape(-1,1)\n",
    "\n",
    "model = sklearn.linear_model.LogisticRegression()\n",
    "model.fit(x_train_transformed, y_train)\n",
    "\n",
    "y_pred = model.predict(x_test_transformed)\n",
    "confusion_matrix = sklearn.metrics.confusion_matrix(y_test, y_pred)\n",
    "print(\"Confusion matrix: \\n\" + str(confusion_matrix))\n",
    "classification_report = sklearn.metrics.classification_report(y_test, y_pred)\n",
    "print(\"\\n\")\n",
    "print(\"Classification report: \\n\" + str(classification_report))"
   ]
  },
  {
   "cell_type": "markdown",
   "id": "7e8e3b05-18df-44a2-b017-b947a0828145",
   "metadata": {},
   "source": [
    "### Repeat this classification process, only now use all 13 features at once when doing your model fit\n",
    "\n",
    "- Print the confusion matrix and scores for accuracy, precision, and recall of the model applied to the test data"
   ]
  },
  {
   "cell_type": "code",
   "execution_count": 26,
   "id": "0c3ef3d6-6b40-404f-a123-3a9fe6aed50c",
   "metadata": {},
   "outputs": [
    {
     "name": "stdout",
     "output_type": "stream",
     "text": [
      "Confusion matrix: \n",
      "[[14  0  0]\n",
      " [ 0 14  0]\n",
      " [ 0  0  8]]\n",
      "\n",
      "\n",
      "Classification report: \n",
      "              precision    recall  f1-score   support\n",
      "\n",
      "           0       1.00      1.00      1.00        14\n",
      "           1       1.00      1.00      1.00        14\n",
      "           2       1.00      1.00      1.00         8\n",
      "\n",
      "    accuracy                           1.00        36\n",
      "   macro avg       1.00      1.00      1.00        36\n",
      "weighted avg       1.00      1.00      1.00        36\n",
      "\n"
     ]
    }
   ],
   "source": [
    "x_train2, x_test2, y_train2, y_test2 = sklearn.model_selection.train_test_split(x, y, test_size=0.2, random_state=42)\n",
    "\n",
    "model = sklearn.linear_model.LogisticRegression()\n",
    "model.fit(x_train2, y_train2)\n",
    "\n",
    "y_pred2 = model.predict(x_test2)\n",
    "confusion_matrix2 = sklearn.metrics.confusion_matrix(y_test2, y_pred2)\n",
    "print(\"Confusion matrix: \\n\" + str(confusion_matrix2))\n",
    "classification_report2 = sklearn.metrics.classification_report(y_test2, y_pred2)\n",
    "print(\"\\n\")\n",
    "print(\"Classification report: \\n\" + str(classification_report2))"
   ]
  },
  {
   "cell_type": "markdown",
   "id": "1cbfbb3c-d372-4d7a-bca6-15c8081b574a",
   "metadata": {},
   "source": [
    "- Compare the model's results against the results obtained when training on just one feature\n",
    "\n",
    "Classification accuracy for all three classes when the logistic regression model was trained on only one feature was surprisingly high, with only a minority of cases (29%) misclassified, and with precision and recall >0.64 for all classes. However, when the model was trained on all 13 features, the algorithm suddenly had perfect prediction on all test set instances, with perfect precision and recall. This shows that useful features employed together can sometimes attain extremely accurate results with logistic regression."
   ]
  }
 ],
 "metadata": {
  "kernelspec": {
   "display_name": "Python 3 (ipykernel)",
   "language": "python",
   "name": "python3"
  },
  "language_info": {
   "codemirror_mode": {
    "name": "ipython",
    "version": 3
   },
   "file_extension": ".py",
   "mimetype": "text/x-python",
   "name": "python",
   "nbconvert_exporter": "python",
   "pygments_lexer": "ipython3",
   "version": "3.9.12"
  }
 },
 "nbformat": 4,
 "nbformat_minor": 5
}
