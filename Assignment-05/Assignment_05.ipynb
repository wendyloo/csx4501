{
 "cells": [
  {
   "cell_type": "markdown",
   "id": "dc478f99-bce3-4505-8a06-49df97c869b7",
   "metadata": {},
   "source": [
    "### Get a CORGIS dataset, and use pandas to import this data into a dataframe\n",
    "\n",
    "Cancer dataset:"
   ]
  },
  {
   "cell_type": "code",
   "execution_count": 173,
   "id": "1960a63e-7de5-403f-a776-b01f1c446de2",
   "metadata": {},
   "outputs": [],
   "source": [
    "import pandas as pd\n",
    "df = pd.read_csv('cancer.csv')"
   ]
  },
  {
   "cell_type": "markdown",
   "id": "978a5fbc-5754-4613-8b63-038eaeeefd0a",
   "metadata": {},
   "source": [
    "### Print descriptive statistics about the columns using the \"describe\" method"
   ]
  },
  {
   "cell_type": "code",
   "execution_count": 174,
   "id": "3b6fe1b3-ac8f-4ad1-adca-758bd1622387",
   "metadata": {},
   "outputs": [
    {
     "data": {
      "text/html": [
       "<div>\n",
       "<style scoped>\n",
       "    .dataframe tbody tr th:only-of-type {\n",
       "        vertical-align: middle;\n",
       "    }\n",
       "\n",
       "    .dataframe tbody tr th {\n",
       "        vertical-align: top;\n",
       "    }\n",
       "\n",
       "    .dataframe thead th {\n",
       "        text-align: right;\n",
       "    }\n",
       "</style>\n",
       "<table border=\"1\" class=\"dataframe\">\n",
       "  <thead>\n",
       "    <tr style=\"text-align: right;\">\n",
       "      <th></th>\n",
       "      <th>Total.Rate</th>\n",
       "      <th>Total.Number</th>\n",
       "      <th>Total.Population</th>\n",
       "      <th>Rates.Age.&lt; 18</th>\n",
       "      <th>Rates.Age.18-45</th>\n",
       "      <th>Rates.Age.45-64</th>\n",
       "      <th>Rates.Age.&gt; 64</th>\n",
       "      <th>Rates.Age and Sex.&lt; 18.Female</th>\n",
       "      <th>Rates.Age and Sex.&lt; 18.Male</th>\n",
       "      <th>Rates.Age and Sex.18 - 45.Female</th>\n",
       "      <th>...</th>\n",
       "      <th>Types.Lung.Age and Sex.Male.45 - 64</th>\n",
       "      <th>Types.Lung.Age and Sex.Female.&gt; 64</th>\n",
       "      <th>Types.Lung.Age and Sex.Male.&gt; 64</th>\n",
       "      <th>Types.Lung.Race.White</th>\n",
       "      <th>Types.Lung.Race.White non-Hispanic</th>\n",
       "      <th>Types.Lung.Race.Black</th>\n",
       "      <th>Types.Lung.Race.Black non-Hispanic</th>\n",
       "      <th>Types.Lung.Race.Asian</th>\n",
       "      <th>Types.Lung.Race.Indigenous</th>\n",
       "      <th>Types.Lung.Race.Hispanic</th>\n",
       "    </tr>\n",
       "  </thead>\n",
       "  <tbody>\n",
       "    <tr>\n",
       "      <th>count</th>\n",
       "      <td>51.000000</td>\n",
       "      <td>51.000000</td>\n",
       "      <td>5.100000e+01</td>\n",
       "      <td>51.000000</td>\n",
       "      <td>51.000000</td>\n",
       "      <td>51.000000</td>\n",
       "      <td>51.000000</td>\n",
       "      <td>51.000000</td>\n",
       "      <td>51.000000</td>\n",
       "      <td>51.000000</td>\n",
       "      <td>...</td>\n",
       "      <td>51.000000</td>\n",
       "      <td>51.000000</td>\n",
       "      <td>51.000000</td>\n",
       "      <td>51.000000</td>\n",
       "      <td>51.000000</td>\n",
       "      <td>51.000000</td>\n",
       "      <td>51.000000</td>\n",
       "      <td>51.000000</td>\n",
       "      <td>51.000000</td>\n",
       "      <td>51.000000</td>\n",
       "    </tr>\n",
       "    <tr>\n",
       "      <th>mean</th>\n",
       "      <td>190.656863</td>\n",
       "      <td>78723.725490</td>\n",
       "      <td>4.240151e+07</td>\n",
       "      <td>2.119608</td>\n",
       "      <td>14.764706</td>\n",
       "      <td>197.576471</td>\n",
       "      <td>980.949020</td>\n",
       "      <td>1.727451</td>\n",
       "      <td>2.033333</td>\n",
       "      <td>16.013725</td>\n",
       "      <td>...</td>\n",
       "      <td>64.825490</td>\n",
       "      <td>224.668627</td>\n",
       "      <td>354.956863</td>\n",
       "      <td>48.158824</td>\n",
       "      <td>49.341176</td>\n",
       "      <td>44.056863</td>\n",
       "      <td>44.500000</td>\n",
       "      <td>19.323529</td>\n",
       "      <td>27.309804</td>\n",
       "      <td>16.184314</td>\n",
       "    </tr>\n",
       "    <tr>\n",
       "      <th>std</th>\n",
       "      <td>28.592155</td>\n",
       "      <td>80861.292676</td>\n",
       "      <td>4.784244e+07</td>\n",
       "      <td>0.502004</td>\n",
       "      <td>2.204343</td>\n",
       "      <td>31.261040</td>\n",
       "      <td>75.189556</td>\n",
       "      <td>0.846186</td>\n",
       "      <td>0.931808</td>\n",
       "      <td>2.530219</td>\n",
       "      <td>...</td>\n",
       "      <td>21.288737</td>\n",
       "      <td>33.313394</td>\n",
       "      <td>69.938477</td>\n",
       "      <td>9.446125</td>\n",
       "      <td>9.274183</td>\n",
       "      <td>20.517283</td>\n",
       "      <td>21.431435</td>\n",
       "      <td>10.427801</td>\n",
       "      <td>26.435236</td>\n",
       "      <td>8.041079</td>\n",
       "    </tr>\n",
       "    <tr>\n",
       "      <th>min</th>\n",
       "      <td>98.500000</td>\n",
       "      <td>6361.000000</td>\n",
       "      <td>3.931624e+06</td>\n",
       "      <td>0.000000</td>\n",
       "      <td>10.000000</td>\n",
       "      <td>132.300000</td>\n",
       "      <td>735.800000</td>\n",
       "      <td>0.000000</td>\n",
       "      <td>0.000000</td>\n",
       "      <td>10.300000</td>\n",
       "      <td>...</td>\n",
       "      <td>26.000000</td>\n",
       "      <td>92.700000</td>\n",
       "      <td>153.200000</td>\n",
       "      <td>20.400000</td>\n",
       "      <td>20.600000</td>\n",
       "      <td>0.000000</td>\n",
       "      <td>0.000000</td>\n",
       "      <td>0.000000</td>\n",
       "      <td>0.000000</td>\n",
       "      <td>0.000000</td>\n",
       "    </tr>\n",
       "    <tr>\n",
       "      <th>25%</th>\n",
       "      <td>176.500000</td>\n",
       "      <td>20631.000000</td>\n",
       "      <td>1.186991e+07</td>\n",
       "      <td>2.050000</td>\n",
       "      <td>13.350000</td>\n",
       "      <td>175.000000</td>\n",
       "      <td>943.550000</td>\n",
       "      <td>1.750000</td>\n",
       "      <td>2.050000</td>\n",
       "      <td>14.150000</td>\n",
       "      <td>...</td>\n",
       "      <td>48.950000</td>\n",
       "      <td>209.550000</td>\n",
       "      <td>313.300000</td>\n",
       "      <td>42.750000</td>\n",
       "      <td>43.700000</td>\n",
       "      <td>38.150000</td>\n",
       "      <td>39.950000</td>\n",
       "      <td>18.350000</td>\n",
       "      <td>4.450000</td>\n",
       "      <td>13.700000</td>\n",
       "    </tr>\n",
       "    <tr>\n",
       "      <th>50%</th>\n",
       "      <td>196.100000</td>\n",
       "      <td>54930.000000</td>\n",
       "      <td>3.034806e+07</td>\n",
       "      <td>2.200000</td>\n",
       "      <td>14.600000</td>\n",
       "      <td>189.300000</td>\n",
       "      <td>999.600000</td>\n",
       "      <td>2.000000</td>\n",
       "      <td>2.300000</td>\n",
       "      <td>16.000000</td>\n",
       "      <td>...</td>\n",
       "      <td>59.700000</td>\n",
       "      <td>225.800000</td>\n",
       "      <td>342.600000</td>\n",
       "      <td>48.100000</td>\n",
       "      <td>48.800000</td>\n",
       "      <td>47.000000</td>\n",
       "      <td>48.600000</td>\n",
       "      <td>22.200000</td>\n",
       "      <td>20.900000</td>\n",
       "      <td>18.100000</td>\n",
       "    </tr>\n",
       "    <tr>\n",
       "      <th>75%</th>\n",
       "      <td>210.750000</td>\n",
       "      <td>93328.000000</td>\n",
       "      <td>4.650326e+07</td>\n",
       "      <td>2.400000</td>\n",
       "      <td>16.250000</td>\n",
       "      <td>217.850000</td>\n",
       "      <td>1031.450000</td>\n",
       "      <td>2.200000</td>\n",
       "      <td>2.500000</td>\n",
       "      <td>17.700000</td>\n",
       "      <td>...</td>\n",
       "      <td>77.600000</td>\n",
       "      <td>248.150000</td>\n",
       "      <td>391.000000</td>\n",
       "      <td>54.500000</td>\n",
       "      <td>54.950000</td>\n",
       "      <td>60.000000</td>\n",
       "      <td>60.350000</td>\n",
       "      <td>25.500000</td>\n",
       "      <td>44.250000</td>\n",
       "      <td>20.450000</td>\n",
       "    </tr>\n",
       "    <tr>\n",
       "      <th>max</th>\n",
       "      <td>254.600000</td>\n",
       "      <td>393980.000000</td>\n",
       "      <td>2.611357e+08</td>\n",
       "      <td>2.700000</td>\n",
       "      <td>20.300000</td>\n",
       "      <td>263.900000</td>\n",
       "      <td>1110.200000</td>\n",
       "      <td>2.900000</td>\n",
       "      <td>3.200000</td>\n",
       "      <td>22.800000</td>\n",
       "      <td>...</td>\n",
       "      <td>112.600000</td>\n",
       "      <td>298.300000</td>\n",
       "      <td>519.100000</td>\n",
       "      <td>71.500000</td>\n",
       "      <td>71.900000</td>\n",
       "      <td>73.200000</td>\n",
       "      <td>73.600000</td>\n",
       "      <td>33.900000</td>\n",
       "      <td>87.500000</td>\n",
       "      <td>35.200000</td>\n",
       "    </tr>\n",
       "  </tbody>\n",
       "</table>\n",
       "<p>8 rows × 74 columns</p>\n",
       "</div>"
      ],
      "text/plain": [
       "       Total.Rate   Total.Number  Total.Population  Rates.Age.< 18  \\\n",
       "count   51.000000      51.000000      5.100000e+01       51.000000   \n",
       "mean   190.656863   78723.725490      4.240151e+07        2.119608   \n",
       "std     28.592155   80861.292676      4.784244e+07        0.502004   \n",
       "min     98.500000    6361.000000      3.931624e+06        0.000000   \n",
       "25%    176.500000   20631.000000      1.186991e+07        2.050000   \n",
       "50%    196.100000   54930.000000      3.034806e+07        2.200000   \n",
       "75%    210.750000   93328.000000      4.650326e+07        2.400000   \n",
       "max    254.600000  393980.000000      2.611357e+08        2.700000   \n",
       "\n",
       "       Rates.Age.18-45  Rates.Age.45-64  Rates.Age.> 64  \\\n",
       "count        51.000000        51.000000       51.000000   \n",
       "mean         14.764706       197.576471      980.949020   \n",
       "std           2.204343        31.261040       75.189556   \n",
       "min          10.000000       132.300000      735.800000   \n",
       "25%          13.350000       175.000000      943.550000   \n",
       "50%          14.600000       189.300000      999.600000   \n",
       "75%          16.250000       217.850000     1031.450000   \n",
       "max          20.300000       263.900000     1110.200000   \n",
       "\n",
       "       Rates.Age and Sex.< 18.Female  Rates.Age and Sex.< 18.Male  \\\n",
       "count                      51.000000                    51.000000   \n",
       "mean                        1.727451                     2.033333   \n",
       "std                         0.846186                     0.931808   \n",
       "min                         0.000000                     0.000000   \n",
       "25%                         1.750000                     2.050000   \n",
       "50%                         2.000000                     2.300000   \n",
       "75%                         2.200000                     2.500000   \n",
       "max                         2.900000                     3.200000   \n",
       "\n",
       "       Rates.Age and Sex.18 - 45.Female  ...  \\\n",
       "count                         51.000000  ...   \n",
       "mean                          16.013725  ...   \n",
       "std                            2.530219  ...   \n",
       "min                           10.300000  ...   \n",
       "25%                           14.150000  ...   \n",
       "50%                           16.000000  ...   \n",
       "75%                           17.700000  ...   \n",
       "max                           22.800000  ...   \n",
       "\n",
       "       Types.Lung.Age and Sex.Male.45 - 64  \\\n",
       "count                            51.000000   \n",
       "mean                             64.825490   \n",
       "std                              21.288737   \n",
       "min                              26.000000   \n",
       "25%                              48.950000   \n",
       "50%                              59.700000   \n",
       "75%                              77.600000   \n",
       "max                             112.600000   \n",
       "\n",
       "       Types.Lung.Age and Sex.Female.> 64  Types.Lung.Age and Sex.Male.> 64  \\\n",
       "count                           51.000000                         51.000000   \n",
       "mean                           224.668627                        354.956863   \n",
       "std                             33.313394                         69.938477   \n",
       "min                             92.700000                        153.200000   \n",
       "25%                            209.550000                        313.300000   \n",
       "50%                            225.800000                        342.600000   \n",
       "75%                            248.150000                        391.000000   \n",
       "max                            298.300000                        519.100000   \n",
       "\n",
       "       Types.Lung.Race.White  Types.Lung.Race.White non-Hispanic  \\\n",
       "count              51.000000                           51.000000   \n",
       "mean               48.158824                           49.341176   \n",
       "std                 9.446125                            9.274183   \n",
       "min                20.400000                           20.600000   \n",
       "25%                42.750000                           43.700000   \n",
       "50%                48.100000                           48.800000   \n",
       "75%                54.500000                           54.950000   \n",
       "max                71.500000                           71.900000   \n",
       "\n",
       "       Types.Lung.Race.Black  Types.Lung.Race.Black non-Hispanic  \\\n",
       "count              51.000000                           51.000000   \n",
       "mean               44.056863                           44.500000   \n",
       "std                20.517283                           21.431435   \n",
       "min                 0.000000                            0.000000   \n",
       "25%                38.150000                           39.950000   \n",
       "50%                47.000000                           48.600000   \n",
       "75%                60.000000                           60.350000   \n",
       "max                73.200000                           73.600000   \n",
       "\n",
       "       Types.Lung.Race.Asian  Types.Lung.Race.Indigenous  \\\n",
       "count              51.000000                   51.000000   \n",
       "mean               19.323529                   27.309804   \n",
       "std                10.427801                   26.435236   \n",
       "min                 0.000000                    0.000000   \n",
       "25%                18.350000                    4.450000   \n",
       "50%                22.200000                   20.900000   \n",
       "75%                25.500000                   44.250000   \n",
       "max                33.900000                   87.500000   \n",
       "\n",
       "       Types.Lung.Race.Hispanic  \n",
       "count                 51.000000  \n",
       "mean                  16.184314  \n",
       "std                    8.041079  \n",
       "min                    0.000000  \n",
       "25%                   13.700000  \n",
       "50%                   18.100000  \n",
       "75%                   20.450000  \n",
       "max                   35.200000  \n",
       "\n",
       "[8 rows x 74 columns]"
      ]
     },
     "execution_count": 174,
     "metadata": {},
     "output_type": "execute_result"
    }
   ],
   "source": [
    "df.describe()"
   ]
  },
  {
   "cell_type": "markdown",
   "id": "27c7a082-8d11-4866-b81e-bc9b48d7952d",
   "metadata": {},
   "source": [
    "### Choose a numerical column (which I'll call COL1) and calculate the mean, median, mode, and trimmed mean\n",
    "\n",
    "- Don't use the \"describe\" method, but can use other convenient pandas methods to do this\n",
    "- For the trimmed mean, choose what to trim, but comment on the amount choosing to trim\n"
   ]
  },
  {
   "cell_type": "code",
   "execution_count": 175,
   "id": "05cb90cf-abea-47f4-878d-7453aaa996d1",
   "metadata": {},
   "outputs": [
    {
     "name": "stdout",
     "output_type": "stream",
     "text": [
      "mean: 190.656862745098\n",
      "median: 196.1\n",
      "mode: \n",
      "0    167.9\n",
      "1    211.2\n",
      "Name: Total.Rate, dtype: float64\n",
      "rounded mode: \n",
      "0    189.0\n",
      "Name: Total.Rate, dtype: float64\n",
      "\n",
      "trimmed mean: 191.5574468085106\n"
     ]
    }
   ],
   "source": [
    "from scipy import stats\n",
    "\n",
    "mean = df['Total.Rate'].mean()\n",
    "median = df['Total.Rate'].median()\n",
    "mode = df['Total.Rate'].mode()\n",
    "# Various decimal values may potentially make the naive \"mode\" calculation less meaningful. \n",
    "# Rounding the values to whole number seems to produce a more meaningful/representative result.\n",
    "rounded_mode = df['Total.Rate'].round().mode()\n",
    "trimmed_mean = stats.trim_mean(df['Total.Rate'], 0.05) \n",
    "\n",
    "print(\"mean: \" + str(mean))\n",
    "print(\"median: \" + str(median))\n",
    "print(\"mode: \\n\" + str(mode))\n",
    "print(\"rounded mode: \\n\" + str(rounded_mode) + \"\\n\")\n",
    "print(\"trimmed mean: \" + str(trimmed_mean))"
   ]
  },
  {
   "cell_type": "markdown",
   "id": "a873b7b7-410d-4ecb-ad59-e397d5500aad",
   "metadata": {},
   "source": [
    "### Plot a histogram of COL1 data and comment on the relative locations of the mean, median, mode, and trimmed mean"
   ]
  },
  {
   "cell_type": "code",
   "execution_count": 176,
   "id": "92f2abe7-109c-4509-aff1-ce14936d9797",
   "metadata": {},
   "outputs": [
    {
     "data": {
      "text/plain": [
       "<AxesSubplot:ylabel='Frequency'>"
      ]
     },
     "execution_count": 176,
     "metadata": {},
     "output_type": "execute_result"
    },
    {
     "data": {
      "image/png": "[encoded data removed]",
      "text/plain": [
       "<Figure size 432x288 with 1 Axes>"
      ]
     },
     "metadata": {
      "needs_background": "light"
     },
     "output_type": "display_data"
    }
   ],
   "source": [
    "df['Total.Rate'].plot(kind='hist')"
   ]
  },
  {
   "cell_type": "markdown",
   "id": "6c5b8fbe-b7ec-415d-939c-9fe0a4b193ba",
   "metadata": {},
   "source": [
    "The mean of the data is lower than the median, indicating that it has a left skew, which is indeed shown in the histogram plot. The trimmed mean is not substantially different from the non-trimmed mean for this dataset. The histogram shows two different peaks, which I think may potentially indicate bimodality or could be just noise/measurement error. The non-rounded mode gives two different values, though the lower mode does not correspond well to the peak shown in the plot. The rounded mode gives a value that seems to correspond well to the highest peak."
   ]
  },
  {
   "cell_type": "markdown",
   "id": "9e99b63b-261e-42c4-9978-09874780e7f4",
   "metadata": {},
   "source": [
    "### Calculate the mean absolute deviation, the standard deviation, and the interquartile range (the difference of the 75% and 25% quantile)"
   ]
  },
  {
   "cell_type": "code",
   "execution_count": 177,
   "id": "87061a20-a547-4ab0-bf84-66b65ff9d228",
   "metadata": {},
   "outputs": [
    {
     "name": "stdout",
     "output_type": "stream",
     "text": [
      "mean absolute deviation: 21.6557477893118\n",
      "standard deviation: 28.59215455261783\n",
      "25% quantile: 176.5\n",
      "75% quantile: 210.75\n",
      "interquartile range: 34.25\n"
     ]
    }
   ],
   "source": [
    "mad = df['Total.Rate'].mad()\n",
    "stdev = df['Total.Rate'].std()\n",
    "quantile_25 = df['Total.Rate'].quantile(0.25)\n",
    "quantile_75 = df['Total.Rate'].quantile(0.75)\n",
    "iqr = quantile_75 - quantile_25\n",
    "\n",
    "print(\"mean absolute deviation: \" + str(mad))\n",
    "print(\"standard deviation: \" + str(stdev))\n",
    "print(\"25% quantile: \" + str(quantile_25))\n",
    "print(\"75% quantile: \" + str(quantile_75))\n",
    "print(\"interquartile range: \" + str(iqr))"
   ]
  },
  {
   "cell_type": "markdown",
   "id": "b3da2606-f4be-4d10-b3e5-9bd91dba731d",
   "metadata": {},
   "source": [
    "- Comment on how they compare to each other and to the histogram plot.\n",
    "\n",
    "The MAD is smaller than the StDev, as expected (because the StDev calculation involving squaring will weight values with larger deviations more). The interquartile range (176.5 - 210.75) corresponds well to the central \"peak\" part of the histogram."
   ]
  },
  {
   "cell_type": "markdown",
   "id": "dc85a67d-e78a-4e50-82d4-d4f1272025c0",
   "metadata": {},
   "source": [
    "### Plot a box plot of COL1"
   ]
  },
  {
   "cell_type": "code",
   "execution_count": 178,
   "id": "9b3d25aa-9362-43e3-b3ee-188fdf150a7b",
   "metadata": {},
   "outputs": [
    {
     "data": {
      "text/plain": [
       "<AxesSubplot:>"
      ]
     },
     "execution_count": 178,
     "metadata": {},
     "output_type": "execute_result"
    },
    {
     "data": {
      "image/png": "[encoded data removed]",
      "text/plain": [
       "<Figure size 432x288 with 1 Axes>"
      ]
     },
     "metadata": {
      "needs_background": "light"
     },
     "output_type": "display_data"
    }
   ],
   "source": [
    "df['Total.Rate'].plot(kind='box')"
   ]
  },
  {
   "cell_type": "markdown",
   "id": "b6313ff6-b759-4fa0-808d-8faa9a952e32",
   "metadata": {},
   "source": [
    "- Comment on how the locations of the calculated median and the 25% and 75% quantiles match with features in the plot\n",
    "\n",
    "The calculated median (196.1) and 25% and 75% quantiles (176.5 - 210.75) match exactly what is shown in the box plot."
   ]
  },
  {
   "cell_type": "markdown",
   "id": "693f235f-87fd-4633-9ff5-857cdf0a813f",
   "metadata": {
    "tags": []
   },
   "source": [
    "### Make a new column in your dataframe called \"COL1_mean_split\"\n",
    "\n",
    "- The values in the \"COL1_mean_split\" column should be equal to either 0, 1, or 2.  For any given row:\n",
    "  - If the COL1 value < 0.5 * (COL1 mean), set the COL1_mean_split value to 0\n",
    "  - If the COL1 value >= 0.5 * (COL1 mean) and COL1 value < (COL1 mean), set the COL1_mean_split value to 1\n",
    "  - If the COL1 value >= (COL1 mean), set the COL1_mean_split value to 2"
   ]
  },
  {
   "cell_type": "code",
   "execution_count": 179,
   "id": "c9e0a8a8-1d3c-4a10-9cca-8f26d5bb49fd",
   "metadata": {},
   "outputs": [],
   "source": [
    "def mean_split(value):\n",
    "    if value < 0.5 * mean : return 0\n",
    "    elif value >= 0.5 * mean and value < mean : return 1\n",
    "    else : return 2\n",
    "\n",
    "df['Total.Rate_mean_split'] = df['Total.Rate'].apply(mean_split)"
   ]
  },
  {
   "cell_type": "markdown",
   "id": "bdb8953b-44f4-424e-91c5-4f3754f028d1",
   "metadata": {},
   "source": [
    "### Make a bar plot showing the count of the values of 0, 1, and 2 in the COL1_mean_split column"
   ]
  },
  {
   "cell_type": "code",
   "execution_count": 180,
   "id": "2016d45d-ca57-443b-9336-c5c7f78a0299",
   "metadata": {},
   "outputs": [
    {
     "data": {
      "text/plain": [
       "<AxesSubplot:>"
      ]
     },
     "execution_count": 180,
     "metadata": {},
     "output_type": "execute_result"
    },
    {
     "data": {
      "image/png": "[encoded data removed]",
      "text/plain": [
       "<Figure size 432x288 with 1 Axes>"
      ]
     },
     "metadata": {
      "needs_background": "light"
     },
     "output_type": "display_data"
    }
   ],
   "source": [
    "df['Total.Rate_mean_split'].value_counts().plot(kind=\"bar\")"
   ]
  },
  {
   "cell_type": "markdown",
   "id": "ce36efaa-608a-49a2-9aa4-d459d139bf37",
   "metadata": {},
   "source": [
    "### Make another box plot of the COL1 values grouped by COL1_mean_split values\n",
    "\n",
    "- There should be three boxes in the plot, one for each group of rows corresponding to COL1_mean_split values of 0, 1, or 2"
   ]
  },
  {
   "cell_type": "code",
   "execution_count": 181,
   "id": "c6923f00-641e-4917-bec1-87fd338d5e21",
   "metadata": {},
   "outputs": [
    {
     "data": {
      "text/plain": [
       "<AxesSubplot:title={'center':'Total.Rate'}, xlabel='Total.Rate_mean_split'>"
      ]
     },
     "execution_count": 181,
     "metadata": {},
     "output_type": "execute_result"
    },
    {
     "data": {
      "image/png": "[encoded data removed]",
      "text/plain": [
       "<Figure size 432x288 with 1 Axes>"
      ]
     },
     "metadata": {
      "needs_background": "light"
     },
     "output_type": "display_data"
    }
   ],
   "source": [
    "df.boxplot(column=['Total.Rate'], by='Total.Rate_mean_split')"
   ]
  },
  {
   "cell_type": "markdown",
   "id": "9a571bbb-c9a9-415a-ac04-efd90754bc13",
   "metadata": {},
   "source": [
    "### Choose another numerical column (COL3)\n",
    "\n",
    "- Calculate the correlation between COL1 and COL3\n",
    "- Make a scatter plot of COL1 vs COL3 and comment on whether the calculated correlation value makes sense."
   ]
  },
  {
   "cell_type": "code",
   "execution_count": 182,
   "id": "cb108ce8-e62e-4591-811b-453b94bb618a",
   "metadata": {},
   "outputs": [
    {
     "name": "stdout",
     "output_type": "stream",
     "text": [
      "correlation between Total.Rate and Total.Population: -0.15759350769729671\n"
     ]
    },
    {
     "data": {
      "text/plain": [
       "<AxesSubplot:xlabel='Total.Population', ylabel='Total.Rate'>"
      ]
     },
     "execution_count": 182,
     "metadata": {},
     "output_type": "execute_result"
    },
    {
     "data": {
      "image/png": "[encoded data removed]",
      "text/plain": [
       "<Figure size 432x288 with 1 Axes>"
      ]
     },
     "metadata": {
      "needs_background": "light"
     },
     "output_type": "display_data"
    }
   ],
   "source": [
    "correlation = df['Total.Rate'].corr(df['Total.Population'])\n",
    "print('correlation between Total.Rate and Total.Population: ' + str(correlation))\n",
    "\n",
    "df[['Total.Rate', 'Total.Population']].plot(kind='scatter', x='Total.Population', y='Total.Rate')"
   ]
  },
  {
   "cell_type": "markdown",
   "id": "c5a4e54c-2c54-4da8-9603-d1f39e104186",
   "metadata": {},
   "source": [
    "The scatter plot doesn't seem to present a very strong pattern, but the highest values for population do seem to correspond to lower values for cancer rates. So a slightly negative correlation value seems to make sense."
   ]
  },
  {
   "cell_type": "markdown",
   "id": "31f42bd4-98a4-4107-b820-0d39df9ba48e",
   "metadata": {},
   "source": [
    "- Make a hexagonal binning plot of COL1 vs COL3"
   ]
  },
  {
   "cell_type": "code",
   "execution_count": 183,
   "id": "66a8265d-42db-4a94-a192-566bff6c85fc",
   "metadata": {},
   "outputs": [
    {
     "data": {
      "text/plain": [
       "<AxesSubplot:xlabel='Total.Population', ylabel='Total.Rate'>"
      ]
     },
     "execution_count": 183,
     "metadata": {},
     "output_type": "execute_result"
    },
    {
     "data": {
      "image/png": "[encoded data removed]",
      "text/plain": [
       "<Figure size 432x288 with 2 Axes>"
      ]
     },
     "metadata": {
      "needs_background": "light"
     },
     "output_type": "display_data"
    }
   ],
   "source": [
    "df.plot.hexbin(x='Total.Population', y='Total.Rate', gridsize=15)"
   ]
  }
 ],
 "metadata": {
  "kernelspec": {
   "display_name": "Python 3 (ipykernel)",
   "language": "python",
   "name": "python3"
  },
  "language_info": {
   "codemirror_mode": {
    "name": "ipython",
    "version": 3
   },
   "file_extension": ".py",
   "mimetype": "text/x-python",
   "name": "python",
   "nbconvert_exporter": "python",
   "pygments_lexer": "ipython3",
   "version": "3.9.12"
  }
 },
 "nbformat": 4,
 "nbformat_minor": 5
}
